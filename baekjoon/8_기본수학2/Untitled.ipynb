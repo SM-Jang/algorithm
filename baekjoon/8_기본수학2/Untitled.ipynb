{
 "cells": [
  {
   "cell_type": "code",
   "execution_count": 4,
   "id": "4d1dde88-54af-4f4e-8f58-c185e2af1957",
   "metadata": {},
   "outputs": [
    {
     "name": "stdin",
     "output_type": "stream",
     "text": [
      " 653 375 1000 1000\n"
     ]
    },
    {
     "name": "stdout",
     "output_type": "stream",
     "text": [
      "347\n"
     ]
    }
   ],
   "source": [
    "# 1. 입력\n",
    "x,y,w,h = map(int, input().split())\n",
    "# 2. edge와의 거리\n",
    "distance = []\n",
    "distance.append(x)\n",
    "distance.append(y)\n",
    "distance.append(w-x)\n",
    "distance.append(h-y)\n",
    "# 3. 최소\n",
    "print(min(distance))"
   ]
  },
  {
   "cell_type": "code",
   "execution_count": 12,
   "id": "e0ef6a5d-10b3-49a1-a8b6-d34a2d33fbc1",
   "metadata": {},
   "outputs": [
    {
     "name": "stdin",
     "output_type": "stream",
     "text": [
      " 5 5\n",
      " 5 7\n",
      " 7 5\n"
     ]
    },
    {
     "name": "stdout",
     "output_type": "stream",
     "text": [
      "7 7\n"
     ]
    }
   ],
   "source": [
    "# 1. 3점 입력\n",
    "x, y = {}, {}\n",
    "for _ in range(3):\n",
    "    point = list(map(int, input().split()))\n",
    "\n",
    "    # 2. counter\n",
    "    if point[0] in x:\n",
    "        x[point[0]] += 1\n",
    "    else:\n",
    "        x[point[0]] = 1\n",
    "\n",
    "    if point[1] in y:\n",
    "        y[point[1]] += 1\n",
    "    else:\n",
    "        y[point[1]] = 1\n",
    "    \n",
    "# 3. 1회 사용된 좌표 출력\n",
    "for k, v in x.items():\n",
    "    if v == 1: x = k\n",
    "\n",
    "for k, v in y.items():\n",
    "    if v == 1: y = k\n",
    "    \n",
    "print(x,y)\n",
    "\n"
   ]
  },
  {
   "cell_type": "code",
   "execution_count": 23,
   "id": "2ee9c763-2233-4d0d-8570-b67db6ff2dff",
   "metadata": {},
   "outputs": [
    {
     "name": "stdin",
     "output_type": "stream",
     "text": [
      " 5 3 4\n"
     ]
    },
    {
     "name": "stdout",
     "output_type": "stream",
     "text": [
      "right\n"
     ]
    },
    {
     "name": "stdin",
     "output_type": "stream",
     "text": [
      " 0 0 0\n"
     ]
    }
   ],
   "source": [
    "\n",
    "# 직삼각형 판별 함수\n",
    "def isTriangle(edges):\n",
    "    edges.sort()\n",
    "    if edges[0]**2+edges[1]**2 == edges[2]**2: return True\n",
    "    else: return False\n",
    "\n",
    "\n",
    "while True: # 1. 반복 입력\n",
    "    edges = list(map(int, input().split()))\n",
    "    if edges[0]==0 and edges[1]==0 and edges[2]==0: break # 종료 조건\n",
    "\n",
    "    # 2. 입력에 대해 판별\n",
    "    if isTriangle(edges): print(\"right\") # 3. 맞 출력\n",
    "    else: print(\"wrong\") # 3. 틀 출력"
   ]
  },
  {
   "cell_type": "code",
   "execution_count": 27,
   "id": "70e19fc4-a0ce-4b44-be2c-212e337eb855",
   "metadata": {
    "tags": []
   },
   "outputs": [
    {
     "name": "stdin",
     "output_type": "stream",
     "text": [
      " 42\n"
     ]
    },
    {
     "name": "stdout",
     "output_type": "stream",
     "text": [
      "5541.769441\n",
      "3528.000000\n"
     ]
    }
   ],
   "source": [
    "from math import pi\n",
    "\n",
    "# 1. 반지름 입력(r) -> 원의 넓이(pi*r^2)\n",
    "r = int(input())\n",
    "area1 = pi*(r**2)\n",
    "print(f'{area1:.6f}')\n",
    "# 2. 사각형의 넓이 구하기(2r^2)\n",
    "area2 = 2*(r**2)\n",
    "print(f'{area2:.6f}')\n"
   ]
  },
  {
   "cell_type": "code",
   "execution_count": 10,
   "id": "967fa2ad-a98e-468f-bc60-5126be5daf23",
   "metadata": {},
   "outputs": [
    {
     "name": "stdin",
     "output_type": "stream",
     "text": [
      " 3\n",
      " 0 0 13 40 0 37\n"
     ]
    },
    {
     "name": "stdout",
     "output_type": "stream",
     "text": [
      "2\n"
     ]
    },
    {
     "name": "stdin",
     "output_type": "stream",
     "text": [
      " 0 0 3 0 7 4\n"
     ]
    },
    {
     "name": "stdout",
     "output_type": "stream",
     "text": [
      "1\n"
     ]
    },
    {
     "name": "stdin",
     "output_type": "stream",
     "text": [
      " 1 1 1 1 1 5\n"
     ]
    },
    {
     "name": "stdout",
     "output_type": "stream",
     "text": [
      "0\n"
     ]
    }
   ],
   "source": [
    "from math import sqrt\n",
    "def determinant(x1, x2):\n",
    "    # 좌표간 거리\n",
    "    d = sqrt((x1[0]-x2[0])**2 + (x1[1]-x2[1])**2)\n",
    "    # 반지름\n",
    "    r1, r2 = x1[2], x2[2]\n",
    "    if d > (r1+r2) : print(0)\n",
    "    elif d == (r1+r2) : print(1)\n",
    "    else : print(2)\n",
    "    \n",
    "\n",
    "# 1. 반복\n",
    "T = int(input())\n",
    "\n",
    "\n",
    "for _ in range(T):\n",
    "    # 1. 입력\n",
    "    x = list(map(int, input().split()))\n",
    "    x1,y1,r1,x2,y2,r2 = x\n",
    "    \n",
    "    # 2. 중심점이 같을 때,\n",
    "    if (x1==x2) and (y1==y2):\n",
    "        if r1==r2: print(-1) # 무한\n",
    "        else: print(0)\n",
    "        \n",
    "    # 3. 중심점이 다를 때,\n",
    "    else:\n",
    "        point1, point2 = [x1,y1,r1], [x2,y2,r2]\n",
    "        # 2. 판별\n",
    "        determinant(point1, point2)\n",
    "    \n",
    "    \n"
   ]
  },
  {
   "cell_type": "code",
   "execution_count": 7,
   "id": "23d8796c-8948-42e0-aa9f-27665fa4684f",
   "metadata": {},
   "outputs": [],
   "source": [
    "x1,y1,r1,x2,y2,r2 = x"
   ]
  },
  {
   "cell_type": "code",
   "execution_count": 9,
   "id": "cc082145-c3c1-473c-b9d6-35e85c9173e7",
   "metadata": {},
   "outputs": [
    {
     "data": {
      "text/plain": [
       "([1, 1, 1, 1, 1, 5], 1, 1, 1, 1, 1, 5)"
      ]
     },
     "execution_count": 9,
     "metadata": {},
     "output_type": "execute_result"
    }
   ],
   "source": [
    "x, x1,y1,r1,x2,y2,r2"
   ]
  },
  {
   "cell_type": "code",
   "execution_count": null,
   "id": "9ef4049d-3fd4-4445-9cd5-daf625872a78",
   "metadata": {},
   "outputs": [],
   "source": []
  }
 ],
 "metadata": {
  "kernelspec": {
   "display_name": "Python 3 (ipykernel)",
   "language": "python",
   "name": "python3"
  },
  "language_info": {
   "codemirror_mode": {
    "name": "ipython",
    "version": 3
   },
   "file_extension": ".py",
   "mimetype": "text/x-python",
   "name": "python",
   "nbconvert_exporter": "python",
   "pygments_lexer": "ipython3",
   "version": "3.9.7"
  }
 },
 "nbformat": 4,
 "nbformat_minor": 5
}
