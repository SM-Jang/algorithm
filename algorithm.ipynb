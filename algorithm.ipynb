{
 "cells": [
  {
   "cell_type": "code",
   "execution_count": 32,
   "metadata": {},
   "outputs": [
    {
     "name": "stdin",
     "output_type": "stream",
     "text": [
      " 10 512 512\n"
     ]
    },
    {
     "data": {
      "text/plain": [
       "786432"
      ]
     },
     "execution_count": 32,
     "metadata": {},
     "output_type": "execute_result"
    }
   ],
   "source": [
    "def f(n, r, c):\n",
    "    if n==0: return 0\n",
    "    # import pdb; pdb.set_trace()\n",
    "    # 몇사분면에 속하는지 확인\n",
    "    x = 2**n\n",
    "    x = x//2\n",
    "    if (r<x) and (c<x):#1\n",
    "        value = 4**(n-1)*0\n",
    "    if (r<x) and (c>=x):#2\n",
    "        value = 4**(n-1)*1\n",
    "    if (r>=x) and (c<x):#3\n",
    "        value = 4**(n-1)*2\n",
    "    if (r>=x) and (c>=x):#4\n",
    "        value = 4**(n-1)*3\n",
    "        \n",
    "    ans = value+f(n-1,r%x,c%x)\n",
    "    return ans\n",
    "\n",
    "\n",
    "# main\n",
    "n,r,c = map(int, input().split())\n",
    "print(f(n,r,c))"
   ]
  },
  {
   "cell_type": "code",
   "execution_count": 22,
   "metadata": {},
   "outputs": [
    {
     "data": {
      "text/plain": [
       "False"
      ]
     },
     "execution_count": 22,
     "metadata": {},
     "output_type": "execute_result"
    }
   ],
   "source": [
    "786432 == 1048575"
   ]
  },
  {
   "cell_type": "code",
   "execution_count": null,
   "metadata": {},
   "outputs": [],
   "source": []
  }
 ],
 "metadata": {
  "kernelspec": {
   "display_name": "mstcn",
   "language": "python",
   "name": "mstcn"
  },
  "language_info": {
   "codemirror_mode": {
    "name": "ipython",
    "version": 3
   },
   "file_extension": ".py",
   "mimetype": "text/x-python",
   "name": "python",
   "nbconvert_exporter": "python",
   "pygments_lexer": "ipython3",
   "version": "3.7.13"
  }
 },
 "nbformat": 4,
 "nbformat_minor": 4
}
