{
 "cells": [
  {
   "cell_type": "code",
   "execution_count": 23,
   "metadata": {},
   "outputs": [
    {
     "name": "stdin",
     "output_type": "stream",
     "text": [
      " 10\n"
     ]
    },
    {
     "name": "stdout",
     "output_type": "stream",
     "text": [
      "3\n"
     ]
    }
   ],
   "source": [
    "from collections import deque\n",
    "\n",
    "\n",
    "\n",
    "def bfs(n):\n",
    "    \n",
    "    q = deque()\n",
    "    q.append((0, n)) # (depth, node)\n",
    "    \n",
    "    while True:\n",
    "        depth, n = q.popleft()\n",
    "        if n==1: return depth\n",
    "        \n",
    "        # neighbor\n",
    "        depth += 1\n",
    "        if n%3==0:\n",
    "            q.append((depth, n//3))\n",
    "        if n%2==0:\n",
    "            q.append((depth, n//2))\n",
    "        q.append((depth,n-1))\n",
    "\n",
    "\n",
    "# main\n",
    "n = int(input())\n",
    "cnt = bfs(n)\n",
    "print(cnt)\n"
   ]
  },
  {
   "cell_type": "code",
   "execution_count": null,
   "metadata": {},
   "outputs": [],
   "source": []
  }
 ],
 "metadata": {
  "kernelspec": {
   "display_name": "mstcn",
   "language": "python",
   "name": "mstcn"
  },
  "language_info": {
   "codemirror_mode": {
    "name": "ipython",
    "version": 3
   },
   "file_extension": ".py",
   "mimetype": "text/x-python",
   "name": "python",
   "nbconvert_exporter": "python",
   "pygments_lexer": "ipython3",
   "version": "3.7.13"
  }
 },
 "nbformat": 4,
 "nbformat_minor": 4
}
