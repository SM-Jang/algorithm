{
 "cells": [
  {
   "cell_type": "code",
   "execution_count": null,
   "metadata": {},
   "outputs": [],
   "source": [
    "# 시간, 공간 복잡도\n",
    "\n",
    "# Sort Algorithm\n",
    "# Bubble Sort\n",
    "# Selection Sort\n",
    "# Insertion Sort\n",
    "# Merge Sort\n",
    "# Heap Sort\n",
    "# Quick Sort\n",
    "# Counting Sort\n",
    "# Radix Sort\n",
    "# Divide and Conquer\n",
    "# Dynamic Programming\n",
    "# Greedy Algorithm\n",
    "# Graph\n",
    "# Graph Traversal: BFS, DFS"
   ]
  },
  {
   "cell_type": "markdown",
   "metadata": {
    "tags": []
   },
   "source": [
    "# 정렬 알고리즘"
   ]
  },
  {
   "cell_type": "code",
   "execution_count": 16,
   "metadata": {},
   "outputs": [
    {
     "name": "stdout",
     "output_type": "stream",
     "text": [
      "1 [3, 1, 7, 4, 2, 8, 10, 6, 15]\n",
      "2 [1, 3, 4, 2, 7, 8, 6, 10, 15]\n",
      "3 [1, 3, 2, 4, 7, 6, 8, 10, 15]\n",
      "4 [1, 2, 3, 4, 6, 7, 8, 10, 15]\n",
      "5 [1, 2, 3, 4, 6, 7, 8, 10, 15]\n",
      "6 [1, 2, 3, 4, 6, 7, 8, 10, 15]\n",
      "7 [1, 2, 3, 4, 6, 7, 8, 10, 15]\n",
      "8 [1, 2, 3, 4, 6, 7, 8, 10, 15]\n"
     ]
    }
   ],
   "source": [
    "# 버블정렬 O(n^2)\n",
    "# 0-(n-1)번까지 탐색을 하며 인접한 칸과 비교하여 swap\n",
    "def bubbleSort(array):\n",
    "    for i in range(len(array)-1, 0, -1):\n",
    "        # array의 뒷 부분부터 체우기\n",
    "        for j in range(i):\n",
    "            if array[j] > array[j+1]:\n",
    "                array[j], array[j+1] = array[j+1], array[j]\n",
    "                \n",
    "        print(len(array)-i, array)\n",
    "                \n",
    "array = [3, 7, 1, 15, 4, 2, 8, 10, 6]\n",
    "bubbleSort(array)"
   ]
  },
  {
   "cell_type": "code",
   "execution_count": 17,
   "metadata": {},
   "outputs": [
    {
     "name": "stdout",
     "output_type": "stream",
     "text": [
      "1 93 [26, 54, 20, 17, 77, 31, 44, 55, 93]\n",
      "2 77 [26, 54, 20, 17, 55, 31, 44, 77, 93]\n",
      "3 55 [26, 54, 20, 17, 44, 31, 55, 77, 93]\n",
      "4 54 [26, 31, 20, 17, 44, 54, 55, 77, 93]\n",
      "5 44 [26, 31, 20, 17, 44, 54, 55, 77, 93]\n",
      "6 31 [26, 17, 20, 31, 44, 54, 55, 77, 93]\n",
      "7 26 [20, 17, 26, 31, 44, 54, 55, 77, 93]\n",
      "8 20 [17, 20, 26, 31, 44, 54, 55, 77, 93]\n"
     ]
    }
   ],
   "source": [
    "# 선택정렬 O(n^2)\n",
    "# 최댓값을 찾은 뒤 정해진 위치에 보내주는 방법\n",
    "\n",
    "def selectionSort(array):\n",
    "    for i in range(len(array)-1, 0, -1):\n",
    "        # 최댓값을 맨 뒤에서부터 넣어주기\n",
    "        M = 0\n",
    "        for j in range(1, i+1):\n",
    "            if array[j]>array[M]: M = j\n",
    "            \n",
    "        array[i], array[M] = array[M], array[i]\n",
    "        print(len(array)-i, array[j], array)\n",
    "\n",
    "array = [26, 54, 93, 17, 77, 31, 44, 55, 20]\n",
    "selectionSort(array)"
   ]
  },
  {
   "cell_type": "code",
   "execution_count": 30,
   "metadata": {},
   "outputs": [
    {
     "name": "stdout",
     "output_type": "stream",
     "text": [
      "1\n"
     ]
    }
   ],
   "source": [
    "for i in range(1,0,-1):\n",
    "    print(i)"
   ]
  },
  {
   "cell_type": "code",
   "execution_count": 32,
   "metadata": {},
   "outputs": [
    {
     "name": "stdout",
     "output_type": "stream",
     "text": [
      "1 [26, 54, 93, 17, 77, 31, 44, 55, 20]\n",
      "2 [26, 54, 93, 17, 77, 31, 44, 55, 20]\n",
      "3 [17, 26, 54, 93, 77, 31, 44, 55, 20]\n",
      "4 [17, 26, 54, 77, 93, 31, 44, 55, 20]\n",
      "5 [17, 26, 31, 54, 77, 93, 44, 55, 20]\n",
      "6 [17, 26, 31, 44, 54, 77, 93, 55, 20]\n",
      "7 [17, 26, 31, 44, 54, 55, 77, 93, 20]\n",
      "8 [17, 20, 26, 31, 44, 54, 55, 77, 93]\n"
     ]
    }
   ],
   "source": [
    "# 삽입정렬 O(n) ~ O(n^2)\n",
    "# 현재 배열의 요소들과 배교해 적절한 위치에 삽입\n",
    "\n",
    "def insertionSort(array):\n",
    "    for i in range(1, len(array)):\n",
    "        # 삽입할 녀석\n",
    "        for j in range(i, 0, -1):\n",
    "            if array[j-1] > array[j]: \n",
    "                array[j-1], array[j] = array[j], array[j-1]\n",
    "                \n",
    "            else: break\n",
    "        print(i, array)\n",
    "            \n",
    "        \n",
    "            \n",
    "array=[54,26,93,17,77,31,44,55,20]\n",
    "insertionSort(array)\n",
    "            "
   ]
  },
  {
   "cell_type": "code",
   "execution_count": 37,
   "metadata": {},
   "outputs": [
    {
     "data": {
      "text/plain": [
       "[17, 20, 26, 31, 44, 54, 55, 77, 93]"
      ]
     },
     "execution_count": 37,
     "metadata": {},
     "output_type": "execute_result"
    }
   ],
   "source": [
    "# Merge Sort -> O(nlog(n))\n",
    "# 배열을 잘게 쪼갠 뒤 둘씩 크기를 비교해 정렬하고 분린된 리스트를 \n",
    "# 재귀적으로 합쳐서 정렬을 완성하는 알고리즘, divide and conquer (메모리 많이 씀)\n",
    "\n",
    "def merge(left, right):\n",
    "    result = []\n",
    "    while True:\n",
    "        # 좌 우 모두 합병 끝\n",
    "        if len(right) == 0 and len(left) == 0: break\n",
    "        \n",
    "        # 둘다 존재\n",
    "        if len(left) > 0 and len(right) > 0:\n",
    "            if left[0] <= right[0]:\n",
    "                result.append(left[0])\n",
    "                left = left[1:]\n",
    "            else:\n",
    "                result.append(right[0])\n",
    "                right = right[1:]\n",
    "        # 왼쪽만 존재\n",
    "        elif len(left)>0:\n",
    "            result.append(left[0])\n",
    "            left = left[1:]\n",
    "        # 우측만 존재\n",
    "        else:\n",
    "            result.append(right[0])\n",
    "            right=right[1:]\n",
    "            \n",
    "    return result\n",
    "        \n",
    "\n",
    "def mergeSort(array):\n",
    "    if len(array) <= 1: return array\n",
    "\n",
    "    mid = len(array) // 2\n",
    "    leftArray = array[:mid]\n",
    "    rightArray = array[mid:]\n",
    "    \n",
    "    # 나누기\n",
    "    leftArray = mergeSort(leftArray)\n",
    "    rightArray = mergeSort(rightArray)\n",
    "    \n",
    "    # 합병하기\n",
    "    return merge(leftArray, rightArray)\n",
    "\n",
    "\n",
    "array=[54,26,93,17,77,31,44,55,20]\n",
    "mergeSort(array)"
   ]
  },
  {
   "cell_type": "code",
   "execution_count": 50,
   "metadata": {},
   "outputs": [
    {
     "name": "stdout",
     "output_type": "stream",
     "text": [
      "Min in the heapq is 17\n",
      "Min in the heapq is 20\n",
      "Min in the heapq is 26\n",
      "Min in the heapq is 31\n",
      "Min in the heapq is 44\n",
      "Min in the heapq is 54\n",
      "Min in the heapq is 55\n",
      "Min in the heapq is 77\n",
      "Min in the heapq is 93\n"
     ]
    },
    {
     "data": {
      "text/plain": [
       "[17, 20, 26, 31, 44, 54, 55, 77, 93]"
      ]
     },
     "execution_count": 50,
     "metadata": {},
     "output_type": "execute_result"
    }
   ],
   "source": [
    "# Heap Sort -> O(nlog(n))\n",
    "# 완전 이진 트리로 구현되는 정렬 방식\n",
    "# 모든 노드가 힙 속성(각 노드의 값이 자신의 자식 노드 값보다 큰 이진 트리)을\n",
    "# 만족하도록 재귀적으로 트리 구조를 만들어 정렬\n",
    "\n",
    "import heapq\n",
    "\n",
    "def heapSort(array):\n",
    "    result = []\n",
    "    \n",
    "    heapq.heapify(array)\n",
    "    for i in range(len(array)):\n",
    "        m = heapq.heappop(array)\n",
    "        print(\"Min in the heapq is\", m)\n",
    "        result.append(m)\n",
    "        \n",
    "    return result\n",
    "array=[54,26,93,17,77,31,44,55,20]\n",
    "heapSort(array)"
   ]
  },
  {
   "cell_type": "code",
   "execution_count": 2,
   "metadata": {},
   "outputs": [
    {
     "data": {
      "text/plain": [
       "[17, 20, 26, 31, 44, 54, 55, 77, 93]"
      ]
     },
     "execution_count": 2,
     "metadata": {},
     "output_type": "execute_result"
    }
   ],
   "source": [
    "# 퀵 정렬 -> O(nlog(n))\n",
    "# pivot을 기준으로 앞에는 작은 값, 뒤에는 큰 값으로 분할 -> 재귀\n",
    "\n",
    "def quickSort(array):\n",
    "    if len(array)<=1: return array\n",
    "    pivot = array[0]\n",
    "    \n",
    "    left = [x for x in array if x < pivot]\n",
    "    right = [x for x in array if x > pivot]\n",
    "    \n",
    "    return quickSort(left) + [pivot] + quickSort(right)\n",
    "array=[54,26,93,17,77,31,44,55,20]\n",
    "quickSort(array)"
   ]
  },
  {
   "cell_type": "code",
   "execution_count": 25,
   "metadata": {},
   "outputs": [
    {
     "data": {
      "text/plain": [
       "(5, 5, 5)"
      ]
     },
     "execution_count": 25,
     "metadata": {},
     "output_type": "execute_result"
    }
   ],
   "source": [
    "# Divide and Conquer\n",
    "# 문제를 분할해서 해결한 후 다시 조합\n",
    "# 큰 문제를 작은 문제로 분할한다는 관점에서 하향식 접근 방법\n",
    "\n",
    "# 분할: 문제를 동일한 유형의 여러 하위 문제로 나누는 것\n",
    "# 해결: 가장 작은 단위의 하위 문제를 해결\n",
    "# 조합: 하위 문제에 대한 결과를 원래 문제에 대한 결과로 조합\n",
    "\n",
    "def fibo(n):\n",
    "\n",
    "    if n==1 or n==2: return 1\n",
    "    else:\n",
    "        return fibo(n-1)+fibo(n-2)\n",
    "    \n",
    "\n",
    "    \n",
    "def fibo_(n):\n",
    "    dp = [1]*(n+1)\n",
    "    for i in range(3, n+1):\n",
    "        dp[i] = dp[i-1]+dp[i-2]\n",
    "    return dp[n]\n",
    "\n",
    "\n",
    "table = [1]*6\n",
    "\n",
    "def fibo__(n):\n",
    "    if n <= 2: return 1\n",
    "    else:\n",
    "        if table[n] != 1: return table[n]\n",
    "        else:\n",
    "            table[n] = fibo__(n-1)+fibo__(n-2)\n",
    "            return table[n]\n",
    "\n",
    "    return table[n]\n",
    "\n",
    "fibo(5), fibo_(5), fibo__(5)"
   ]
  },
  {
   "cell_type": "code",
   "execution_count": 26,
   "metadata": {},
   "outputs": [
    {
     "data": {
      "text/plain": [
       "'\\n현재 단계에서 최선의 방법을 선택하는 알고리즘\\n최종 결과가 최선일지는 모름 -> 이에 대한 정당성을 찾아야 함\\n'"
      ]
     },
     "execution_count": 26,
     "metadata": {},
     "output_type": "execute_result"
    }
   ],
   "source": [
    "# greedy\n",
    "\"\"\"\n",
    "현재 단계에서 최선의 방법을 선택하는 알고리즘\n",
    "최종 결과가 최선일지는 모름 -> 이에 대한 정당성을 찾아야 함\n",
    "\"\"\""
   ]
  },
  {
   "cell_type": "code",
   "execution_count": 27,
   "metadata": {},
   "outputs": [
    {
     "name": "stdout",
     "output_type": "stream",
     "text": [
      "[1, 2, 3, 8, 7, 4, 5, 6]\n"
     ]
    }
   ],
   "source": [
    "# bfs 너비우선탐색\n",
    "\"\"\"\n",
    "그래프 전체를 탐색하는 방법 중 하나로써, 현재 확인하는 노드의 인접한 노드들을 먼저 탐색하는 방법\n",
    "시작 정점으로부터 가까운 정점을 먼저 방문하고 멀리 떨어져 있는 정점을 나중에 방문\n",
    "queue. 주로 두 노드 사이의 최단 경로\n",
    "\"\"\"\n",
    "\n",
    "from collections import deque\n",
    "def bfs(graph, start, visited):\n",
    "    result = []\n",
    "    \n",
    "    q = deque()\n",
    "    q.append(start)\n",
    "    visited[start] = True\n",
    "    \n",
    "    while q:\n",
    "        cur = q.popleft()\n",
    "        result.append(cur)\n",
    "        \n",
    "        # 이웃\n",
    "        for i in graph[cur]:\n",
    "            if not visited[i]:\n",
    "                q.append(i)\n",
    "                visited[i]=True\n",
    "                \n",
    "    return result\n",
    "\n",
    "graph = [\n",
    "    [],\n",
    "    [2,3,8],\n",
    "    [1,7],\n",
    "    [1,4,5],\n",
    "    [3,5],\n",
    "    [3,4],\n",
    "    [7],\n",
    "    [2,6,8],\n",
    "    [1,7]\n",
    "]\n",
    "\n",
    "visited = [False]*9\n",
    "\n",
    "print(bfs(graph,1,visited))"
   ]
  },
  {
   "cell_type": "code",
   "execution_count": 28,
   "metadata": {},
   "outputs": [
    {
     "data": {
      "text/plain": [
       "[1, 2, 7, 6, 8, 3, 4, 5]"
      ]
     },
     "execution_count": 28,
     "metadata": {},
     "output_type": "execute_result"
    }
   ],
   "source": [
    "# dfs 깊이우선탐색\n",
    "\"\"\"\n",
    "그래프 전체를 탐색하는 방법중 하나로\n",
    "시작점부터 다음 분기로 넘어가기 전에 해당 분기를 완벽하게 탐색하고 넘어가는 방법\n",
    "보이는 노드부터 계속해서 깊이를 늘려가며 탐색하고 넘어가는 방법이다.\n",
    "stack이나 재귀함수를 통해서 구현할 수 있다\n",
    "\"\"\"\n",
    "result=[]\n",
    "def dfs(graph, v, visited):\n",
    "    visited[v] = True\n",
    "    result.append(v)\n",
    "    \n",
    "    for i in graph[v]:\n",
    "        if not visited[i]:\n",
    "            dfs(graph, i, visited)\n",
    "            \n",
    "            \n",
    "graph = [\n",
    "    [],\n",
    "    [2,3,8],\n",
    "    [1,7],\n",
    "    [1,4,5],\n",
    "    [3,5],\n",
    "    [3,4],\n",
    "    [7],\n",
    "    [2,6,8],\n",
    "    [1,7]\n",
    "]\n",
    "\n",
    "visited = [False]*9\n",
    "dfs(graph,1,visited)\n",
    "result"
   ]
  },
  {
   "cell_type": "code",
   "execution_count": null,
   "metadata": {},
   "outputs": [],
   "source": []
  }
 ],
 "metadata": {
  "kernelspec": {
   "display_name": "ms-tcn",
   "language": "python",
   "name": "ms-tcn"
  },
  "language_info": {
   "codemirror_mode": {
    "name": "ipython",
    "version": 3
   },
   "file_extension": ".py",
   "mimetype": "text/x-python",
   "name": "python",
   "nbconvert_exporter": "python",
   "pygments_lexer": "ipython3",
   "version": "3.7.10"
  }
 },
 "nbformat": 4,
 "nbformat_minor": 4
}
