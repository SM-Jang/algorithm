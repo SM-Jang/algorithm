{
 "cells": [
  {
   "cell_type": "code",
   "execution_count": 27,
   "metadata": {},
   "outputs": [
    {
     "name": "stdin",
     "output_type": "stream",
     "text": [
      " 9\n"
     ]
    },
    {
     "name": "stdout",
     "output_type": "stream",
     "text": [
      "2\n"
     ]
    }
   ],
   "source": [
    "from collections import deque\n",
    "\n",
    "\n",
    "\n",
    "def bfs(n):\n",
    "    \n",
    "    q = deque()\n",
    "    q.append((0, n)) # (depth, node)\n",
    "    \n",
    "    while True:\n",
    "        depth, n = q.popleft()\n",
    "        if n==1: return depth\n",
    "        \n",
    "        # neighbor\n",
    "        depth += 1\n",
    "        if n%3==0:\n",
    "            q.append((depth, n//3))\n",
    "        if n%2==0:\n",
    "            q.append((depth, n//2))\n",
    "        q.append((depth,n-1))\n",
    "\n",
    "\n",
    "# main\n",
    "n = int(input())\n",
    "cnt = bfs(n)\n",
    "print(cnt)\n"
   ]
  },
  {
   "cell_type": "code",
   "execution_count": 34,
   "metadata": {},
   "outputs": [
    {
     "data": {
      "text/plain": [
       "2"
      ]
     },
     "execution_count": 34,
     "metadata": {},
     "output_type": "execute_result"
    }
   ],
   "source": [
    "n=9\n",
    "d = [0]*(n+1)\n",
    "\n",
    "for i in range(2, n+1):\n",
    "    d[i] = d[i-1]+1\n",
    "    if i % 2 == 0:\n",
    "        d[i] = min(d[i//2]+1, d[i])\n",
    "    if i % 3 == 0:\n",
    "        d[i] = min(d[i//3]+1, d[i])\n",
    "d[n]"
   ]
  },
  {
   "cell_type": "code",
   "execution_count": 33,
   "metadata": {},
   "outputs": [
    {
     "data": {
      "text/plain": [
       "[0, 0, 0, 0, 0, 0, 0, 0, 0, 0]"
      ]
     },
     "execution_count": 33,
     "metadata": {},
     "output_type": "execute_result"
    }
   ],
   "source": [
    "d = [0]*(n+1)\n",
    "d"
   ]
  },
  {
   "cell_type": "code",
   "execution_count": null,
   "metadata": {},
   "outputs": [],
   "source": []
  }
 ],
 "metadata": {
  "kernelspec": {
   "display_name": "mstcn",
   "language": "python",
   "name": "mstcn"
  },
  "language_info": {
   "codemirror_mode": {
    "name": "ipython",
    "version": 3
   },
   "file_extension": ".py",
   "mimetype": "text/x-python",
   "name": "python",
   "nbconvert_exporter": "python",
   "pygments_lexer": "ipython3",
   "version": "3.7.13"
  }
 },
 "nbformat": 4,
 "nbformat_minor": 4
}
