{
 "cells": [
  {
   "cell_type": "code",
   "execution_count": 1,
   "metadata": {},
   "outputs": [
    {
     "name": "stdin",
     "output_type": "stream",
     "text": [
      " 4\n",
      " 7\n",
      " 1 2 4\n",
      " 1 4 6\n",
      " 2 1 3\n",
      " 2 3 7\n",
      " 3 1 5\n",
      " 3 4 4\n",
      " 4 3 2\n"
     ]
    },
    {
     "name": "stdout",
     "output_type": "stream",
     "text": [
      "0 4 8 6 \n",
      "3 0 7 9 \n",
      "5 9 0 4 \n",
      "7 11 2 0 \n"
     ]
    }
   ],
   "source": [
    "INF = int(1e9)\n",
    "\n",
    "n=int(input())\n",
    "m=int(input())\n",
    "\n",
    "graph = [[INF]*(n+1) for _ in range(n+1)]\n",
    "\n",
    "for a in range(1, n+1):\n",
    "    for b in range(1,n+1):\n",
    "        if a==b: graph[a][b]=0\n",
    "        \n",
    "        \n",
    "for _ in range(m):\n",
    "    # a->b: c\n",
    "    a, b, c = map(int, input().split())\n",
    "    graph[a][b]=c\n",
    "    \n",
    "for k in range(1, n+1):\n",
    "    for a in range(1,n+1):\n",
    "        for b in range(1,n+1):\n",
    "            graph[a][b]=min(graph[a][b], graph[a][k]+graph[k][b])\n",
    "            \n",
    "for a in range(1,n+1):\n",
    "    for b in range(1, n+1):\n",
    "        if graph[a][b]==INF:\n",
    "            print('INFINITY', end=' ')\n",
    "        else:\n",
    "            print(graph[a][b], end=' ')\n",
    "            \n",
    "    print()"
   ]
  },
  {
   "cell_type": "code",
   "execution_count": 8,
   "metadata": {},
   "outputs": [
    {
     "name": "stdin",
     "output_type": "stream",
     "text": [
      " 3 2 1\n",
      " 1 2 4\n",
      " 1 3 2\n"
     ]
    },
    {
     "name": "stdout",
     "output_type": "stream",
     "text": [
      "[1000000000, 1000000000, 4, 2]\n"
     ]
    }
   ],
   "source": []
  },
  {
   "cell_type": "code",
   "execution_count": null,
   "metadata": {},
   "outputs": [],
   "source": []
  }
 ],
 "metadata": {
  "kernelspec": {
   "display_name": "ms-tcn",
   "language": "python",
   "name": "ms-tcn"
  },
  "language_info": {
   "codemirror_mode": {
    "name": "ipython",
    "version": 3
   },
   "file_extension": ".py",
   "mimetype": "text/x-python",
   "name": "python",
   "nbconvert_exporter": "python",
   "pygments_lexer": "ipython3",
   "version": "3.7.10"
  }
 },
 "nbformat": 4,
 "nbformat_minor": 4
}
