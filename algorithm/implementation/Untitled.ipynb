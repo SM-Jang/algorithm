{
 "cells": [
  {
   "cell_type": "code",
   "execution_count": 21,
   "metadata": {},
   "outputs": [
    {
     "name": "stdin",
     "output_type": "stream",
     "text": [
      "지도의크기: 5\n",
      "계획서: R R R U D D\n"
     ]
    },
    {
     "name": "stdout",
     "output_type": "stream",
     "text": [
      "1 2\n",
      "1 3\n",
      "1 4\n",
      "2 4\n",
      "3 4\n",
      "3 4\n"
     ]
    }
   ],
   "source": [
    "# 상하좌우\n",
    "\n",
    "n = int(input('지도의크기:'))\n",
    "plans = input('계획서:').split(' ')\n",
    "\n",
    "# 시작 위치\n",
    "x, y = 1, 1\n",
    "\n",
    "# L, R, U, D\n",
    "dx = [0, 0, -1, +1]\n",
    "dy = [-1, +1, 0, 0]\n",
    "move_types = ['L', 'R', 'U', 'D']\n",
    "\n",
    "for plan in plans:\n",
    "    for i in range(len(move_types)):\n",
    "        if plan == move_types[i]:\n",
    "            # 현위치에서 plan에 따라 찍힐 좌표\n",
    "            x_ = x+dx[i] \n",
    "            y_ = y+dy[i]\n",
    "      \n",
    "        # 지도를 벗어나는 경우 채크\n",
    "    if x_>n or x_<1 or y_>n or y_<1: continue\n",
    "    x,y = x_, y_\n",
    "    # print(x, y)\n",
    "print(x, y)"
   ]
  },
  {
   "cell_type": "code",
   "execution_count": 30,
   "metadata": {},
   "outputs": [
    {
     "name": "stdin",
     "output_type": "stream",
     "text": [
      "시간: 5\n"
     ]
    },
    {
     "name": "stdout",
     "output_type": "stream",
     "text": [
      "11475\n"
     ]
    }
   ],
   "source": [
    "# 시각\n",
    "hour = int(input('시간:'))\n",
    "\n",
    "\n",
    "count = 0\n",
    "for h in range(hour+1):\n",
    "    for m in range(60):\n",
    "        for s in range(60):\n",
    "            if '3' in str(h)+str(m)+str(s): count += 1\n",
    "            \n",
    "            \n",
    "print(count)"
   ]
  },
  {
   "cell_type": "code",
   "execution_count": 58,
   "metadata": {},
   "outputs": [
    {
     "name": "stdin",
     "output_type": "stream",
     "text": [
      " a1\n"
     ]
    },
    {
     "name": "stdout",
     "output_type": "stream",
     "text": [
      "2\n"
     ]
    }
   ],
   "source": [
    "# 왕실의 나이트\n",
    "p = input()\n",
    "# input_data = input()\n",
    "# row = int(input_data[1])\n",
    "# col = int(ord(input_data[0])) - int(ord('a')) +1 \n",
    "# row, col\n",
    "row = ['1','2','3','4','5','6','7','8']\n",
    "col = ['a','b','c','d','e','f','g','h']\n",
    "\n",
    "cases = ((+2,+1), (+2,-1), (-2,+1), (-2,+1),\n",
    "       (+1,+2),(+1,-2),(-1,+2),(-1,-2),)\n",
    "\n",
    "# 위치 찾기\n",
    "for i in p:\n",
    "    if i in row:\n",
    "        r = row.index(i)\n",
    "    if i in col:\n",
    "        c = col.index(i)\n",
    "\n",
    "count=0\n",
    "for case in cases:\n",
    "    dx,dy = case[0], case[1]\n",
    "    if 1<=(r+dx) and (r+dx)<=8 and 1<=(c+dy) and (c+dy)<=8:\n",
    "        count+=1\n",
    "        \n",
    "print(count)\n",
    "    "
   ]
  },
  {
   "cell_type": "code",
   "execution_count": 88,
   "metadata": {},
   "outputs": [
    {
     "name": "stdin",
     "output_type": "stream",
     "text": [
      "N과 M 입력 4 5\n",
      "위치 방향 입력 1 1 0\n",
      " 1 1 1 1 1\n",
      " 1 0 0 0 1\n",
      " 1 1 1 0 1\n",
      " 1 1 0 0 1\n"
     ]
    },
    {
     "ename": "IndexError",
     "evalue": "list index out of range",
     "output_type": "error",
     "traceback": [
      "\u001b[0;31m---------------------------------------------------------------------------\u001b[0m",
      "\u001b[0;31mIndexError\u001b[0m                                Traceback (most recent call last)",
      "\u001b[0;32m<ipython-input-88-355937d70c6b>\u001b[0m in \u001b[0;36m<module>\u001b[0;34m\u001b[0m\n\u001b[1;32m     17\u001b[0m     \u001b[0mnew_x\u001b[0m\u001b[0;34m,\u001b[0m \u001b[0mnew_y\u001b[0m \u001b[0;34m=\u001b[0m \u001b[0mp1\u001b[0m\u001b[0;34m+\u001b[0m\u001b[0mdx\u001b[0m\u001b[0;34m[\u001b[0m\u001b[0md\u001b[0m\u001b[0;34m]\u001b[0m\u001b[0;34m,\u001b[0m \u001b[0mp2\u001b[0m\u001b[0;34m+\u001b[0m\u001b[0mdy\u001b[0m\u001b[0;34m[\u001b[0m\u001b[0md\u001b[0m\u001b[0;34m]\u001b[0m\u001b[0;34m\u001b[0m\u001b[0;34m\u001b[0m\u001b[0m\n\u001b[1;32m     18\u001b[0m     \u001b[0;32mif\u001b[0m \u001b[0mcount\u001b[0m \u001b[0;34m==\u001b[0m \u001b[0;36m4\u001b[0m\u001b[0;34m:\u001b[0m \u001b[0;32mbreak\u001b[0m \u001b[0;31m# 4면이 바다\u001b[0m\u001b[0;34m\u001b[0m\u001b[0;34m\u001b[0m\u001b[0m\n\u001b[0;32m---> 19\u001b[0;31m     \u001b[0;32mif\u001b[0m \u001b[0mmaps\u001b[0m\u001b[0;34m[\u001b[0m\u001b[0mnew_x\u001b[0m\u001b[0;34m]\u001b[0m\u001b[0;34m[\u001b[0m\u001b[0mnew_y\u001b[0m\u001b[0;34m]\u001b[0m \u001b[0;34m==\u001b[0m \u001b[0;36m1\u001b[0m\u001b[0;34m:\u001b[0m \u001b[0;31m# 바다\u001b[0m\u001b[0;34m\u001b[0m\u001b[0;34m\u001b[0m\u001b[0m\n\u001b[0m\u001b[1;32m     20\u001b[0m             \u001b[0md\u001b[0m \u001b[0;34m=\u001b[0m \u001b[0;34m(\u001b[0m\u001b[0md\u001b[0m\u001b[0;34m-\u001b[0m\u001b[0;36m1\u001b[0m\u001b[0;34m)\u001b[0m\u001b[0;34m%\u001b[0m\u001b[0;36m4\u001b[0m \u001b[0;31m# 현 위치 기준 왼쪽방향\u001b[0m\u001b[0;34m\u001b[0m\u001b[0;34m\u001b[0m\u001b[0m\n\u001b[1;32m     21\u001b[0m             \u001b[0mcount\u001b[0m\u001b[0;34m+=\u001b[0m\u001b[0;36m1\u001b[0m\u001b[0;34m\u001b[0m\u001b[0;34m\u001b[0m\u001b[0m\n",
      "\u001b[0;31mIndexError\u001b[0m: list index out of range"
     ]
    }
   ],
   "source": [
    "n, m = list(map(int, input('N과 M 입력').split(' ')))\n",
    "p1, p2, d = list(map(int, input('위치 방향 입력').split(' ')))\n",
    "maps = []\n",
    "for i in range(n):\n",
    "    row = list(map(int, input().split(' ')))\n",
    "    maps.append(row)\n",
    "        \n",
    "# 현 위치\n",
    "p = (p1, p2)\n",
    "# 북,동,남,서 - 방향\n",
    "d_type = [0, 1, 2, 3]\n",
    "dx = [0, -1, 0, +1]\n",
    "dy = [+1, 0, -1, 0]\n",
    "count=0\n",
    "result=1\n",
    "while True:\n",
    "    new_x, new_y = p1+dx[d], p2+dy[d]\n",
    "    if count == 4: break # 4면이 바다\n",
    "    if maps[new_x][new_y] == 1: # 바다\n",
    "            d = (d-1)%4 # 현 위치 기준 왼쪽방향\n",
    "            count+=1\n",
    "    else: # 육지\n",
    "        maps[p1][p2] = 1 # 이동(마킹->바다)\n",
    "        p1 = new_x\n",
    "        p2 = new_y\n",
    "        result+=1\n",
    "        \n",
    "        \n",
    "        \n",
    "print(result)"
   ]
  },
  {
   "cell_type": "code",
   "execution_count": 85,
   "metadata": {},
   "outputs": [
    {
     "data": {
      "text/plain": [
       "[[1, 1, 1, 1], [1, 1, 1, 1], [1, 1, 0, 1], [1, 1, 1, 1]]"
      ]
     },
     "execution_count": 85,
     "metadata": {},
     "output_type": "execute_result"
    }
   ],
   "source": [
    "maps"
   ]
  },
  {
   "cell_type": "code",
   "execution_count": 81,
   "metadata": {},
   "outputs": [
    {
     "data": {
      "text/plain": [
       "1"
      ]
     },
     "execution_count": 81,
     "metadata": {},
     "output_type": "execute_result"
    }
   ],
   "source": [
    "result"
   ]
  },
  {
   "cell_type": "code",
   "execution_count": null,
   "metadata": {},
   "outputs": [],
   "source": []
  }
 ],
 "metadata": {
  "kernelspec": {
   "display_name": "Python 3",
   "language": "python",
   "name": "python3"
  },
  "language_info": {
   "codemirror_mode": {
    "name": "ipython",
    "version": 3
   },
   "file_extension": ".py",
   "mimetype": "text/x-python",
   "name": "python",
   "nbconvert_exporter": "python",
   "pygments_lexer": "ipython3",
   "version": "3.7.6"
  }
 },
 "nbformat": 4,
 "nbformat_minor": 4
}
