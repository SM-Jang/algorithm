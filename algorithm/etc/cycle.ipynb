{
 "cells": [
  {
   "cell_type": "code",
   "execution_count": null,
   "metadata": {},
   "outputs": [],
   "source": [
    "# 부모들을 표시한 테이블에서 i의 root찾기\n",
    "def find_parent(parent, i):\n",
    "    if parent[i] != i:\n",
    "        # root노드가 아니다! -> 테이블 갱신 필요\n",
    "        parent[i] = find_parent(parent, parent[i])\n",
    "        \n",
    "    return parent[i]\n",
    "\n",
    "# 두 원소가 속한 집합을 합치기\n",
    "def union_parent(a, b):\n",
    "    # 두 원소의 부모를 찾아서 큰 -> 작은을 가리키도록!\n",
    "    a = find_parent(parent, a)\n",
    "    b = find_parent(parent, b)\n",
    "    if a < b:\n",
    "        parent[b] = a\n",
    "    else:\n",
    "        parent[a] = b\n",
    "        \n",
    "# 노드와 간선\n",
    "v, e = map(int, input().split())\n",
    "# 부모 테이블 -> 자기 자신으로 초기호\n",
    "parent = [i for i in range(v+1)]\n",
    "\n",
    "# 싸이클 발생 여부\n",
    "cycle = False\n",
    "\n",
    "# find와 parent로 판별: 루트 노드가 같으면 cycle\n",
    "for i in range(e):\n",
    "    # 모든 간선에 대해서\n",
    "    a, b = map(int, input().split())\n",
    "    \n",
    "    # 사이클이 발생한 경우 종료\n",
    "    if find_parent(parent, a) == find_parent(parent,b): \n",
    "        cycle = True\n",
    "        break\n",
    "    else:\n",
    "        union_parent(a,b)\n",
    "        \n",
    "        \n",
    "if cycle: print(\"CYCLE\")\n",
    "else: print(\"Not\")"
   ]
  },
  {
   "cell_type": "code",
   "execution_count": null,
   "metadata": {},
   "outputs": [],
   "source": []
  }
 ],
 "metadata": {
  "kernelspec": {
   "display_name": "ms-tcn",
   "language": "python",
   "name": "ms-tcn"
  },
  "language_info": {
   "codemirror_mode": {
    "name": "ipython",
    "version": 3
   },
   "file_extension": ".py",
   "mimetype": "text/x-python",
   "name": "python",
   "nbconvert_exporter": "python",
   "pygments_lexer": "ipython3",
   "version": "3.7.10"
  }
 },
 "nbformat": 4,
 "nbformat_minor": 4
}
