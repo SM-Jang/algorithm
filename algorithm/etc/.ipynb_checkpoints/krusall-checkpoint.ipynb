{
 "cells": [
  {
   "cell_type": "code",
   "execution_count": 13,
   "metadata": {},
   "outputs": [
    {
     "name": "stdin",
     "output_type": "stream",
     "text": [
      " 7 9\n",
      " 1 2 29\n",
      " 1 5 75\n",
      " 2 3 35\n",
      " 2 6 34\n",
      " 3 4 7\n",
      " 4 6 23\n",
      " 4 7 13\n",
      " 5 6 53\n",
      " 6 7 25\n"
     ]
    },
    {
     "name": "stdout",
     "output_type": "stream",
     "text": [
      "159\n"
     ]
    }
   ],
   "source": [
    "import heapq\n",
    "\n",
    "def find_parent(parent, x):\n",
    "    if x != parent[x]:\n",
    "        parent[x] = find_parent(parent, parent[x])\n",
    "        \n",
    "    return parent[x]\n",
    "\n",
    "def union_parent(parent, a, b):\n",
    "    a = find_parent(parent, a)\n",
    "    b = find_parent(parent, b)\n",
    "    if a < b:\n",
    "        parent[b] = a\n",
    "    else:\n",
    "        parent[a] = b\n",
    "        \n",
    "# 노드, 간선\n",
    "v, e = map(int, input().split())\n",
    "\n",
    "# 각 노드에 대해 부모 노드 표기\n",
    "parent = [i for i in range(v+1)] # 자기 자신으로 초기화\n",
    "\n",
    "# edge 입력\n",
    "edges = []\n",
    "for i in range(e):\n",
    "    a, b, cost = map(int, input().split())\n",
    "    heapq.heappush(edges, (cost, a, b)) # a->b: cost\n",
    "    \n",
    "    \n",
    "\n",
    "# 최소 신장 트리 찾기\n",
    "result = 0\n",
    "while edges: # 모든 간선에 대하여\n",
    "    # 최소 비용 순으로 edge가 나옴\n",
    "    cost, a, b = heapq.heappop(edges)\n",
    "    \n",
    "    # cycle 판별    \n",
    "    if find_parent(parent, a) != find_parent(parent, b): # cycle 아님\n",
    "        result += cost\n",
    "        union_parent(parent, a, b) # 두 그래프 합치기\n",
    "        \n",
    "print(result)"
   ]
  },
  {
   "cell_type": "code",
   "execution_count": null,
   "metadata": {},
   "outputs": [],
   "source": []
  }
 ],
 "metadata": {
  "kernelspec": {
   "display_name": "[fishnet]",
   "language": "python",
   "name": "fishnet"
  },
  "language_info": {
   "codemirror_mode": {
    "name": "ipython",
    "version": 3
   },
   "file_extension": ".py",
   "mimetype": "text/x-python",
   "name": "python",
   "nbconvert_exporter": "python",
   "pygments_lexer": "ipython3",
   "version": "3.6.13"
  }
 },
 "nbformat": 4,
 "nbformat_minor": 4
}
