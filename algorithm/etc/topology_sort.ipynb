{
 "cells": [
  {
   "cell_type": "code",
   "execution_count": 1,
   "metadata": {},
   "outputs": [
    {
     "name": "stdin",
     "output_type": "stream",
     "text": [
      " 7 8\n",
      " 1 2\n",
      " 1 5\n",
      " 2 3\n",
      " 2 6\n",
      " 3 4\n",
      " 4 7\n",
      " 5 6\n",
      " 6 4\n"
     ]
    },
    {
     "name": "stdout",
     "output_type": "stream",
     "text": [
      "1 2 5 3 6 4 7 "
     ]
    }
   ],
   "source": [
    "from collections import deque\n",
    "\n",
    "# 노드와 간선\n",
    "v, e = map(int, input().split())\n",
    "\n",
    "# 각 노드에 대하여 진입 차수 -> 0\n",
    "indegree = [0] * (v+1)\n",
    "\n",
    "# 각 노드의 인접 노드\n",
    "graph = [[] for _ in range(v+1)]\n",
    "\n",
    "# 방향 그래프의 모든 간선 정보를 입력 받기\n",
    "for i in range(e):\n",
    "    a, b = map(int, input().split())\n",
    "    indegree[b] += 1 # 진입차수 +1\n",
    "    graph[a].append(b) # a -> b\n",
    "    \n",
    "    \n",
    "def topology_sort():\n",
    "    result = []\n",
    "    q = deque()\n",
    "    \n",
    "    # 처음에 진입 차수가 0인 노드를 큐에 삽입\n",
    "    for i in range(1,v+1):\n",
    "        if indegree[i]==0:\n",
    "            q.append(i)\n",
    "            \n",
    "    # 위상 정렬 알고리즘\n",
    "    while q: # q를 다 비울떄 까지\n",
    "        # 현제 처리하는 노드\n",
    "        now = q.popleft()\n",
    "        result.append(now)\n",
    "        # 인접 노드 확인\n",
    "        for i in graph[now]:\n",
    "            # 간선 하나 제거\n",
    "            indegree[i] -= 1\n",
    "            # 진입차수 = 0 -> 큐에 넣기\n",
    "            if indegree[i]==0:\n",
    "                q.append(i)\n",
    "        \n",
    "    for i in result:\n",
    "        print(i, end=' ')\n",
    "        \n",
    "topology_sort()"
   ]
  },
  {
   "cell_type": "code",
   "execution_count": null,
   "metadata": {},
   "outputs": [],
   "source": []
  }
 ],
 "metadata": {
  "kernelspec": {
   "display_name": "Python 3",
   "language": "python",
   "name": "python3"
  },
  "language_info": {
   "codemirror_mode": {
    "name": "ipython",
    "version": 3
   },
   "file_extension": ".py",
   "mimetype": "text/x-python",
   "name": "python",
   "nbconvert_exporter": "python",
   "pygments_lexer": "ipython3",
   "version": "3.7.6"
  }
 },
 "nbformat": 4,
 "nbformat_minor": 4
}
