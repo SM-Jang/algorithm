{
 "cells": [
  {
   "cell_type": "code",
   "execution_count": 10,
   "metadata": {},
   "outputs": [],
   "source": [
    "import time"
   ]
  },
  {
   "cell_type": "code",
   "execution_count": 1,
   "metadata": {},
   "outputs": [
    {
     "name": "stdout",
     "output_type": "stream",
     "text": [
      "6\n"
     ]
    }
   ],
   "source": [
    "# 1\n",
    "n = 1260\n",
    "count = 0\n",
    "\n",
    "coin_types = [500, 100, 50, 10]\n",
    "\n",
    "for coin in coin_types:\n",
    "    count += n // coin\n",
    "    n %= coin\n",
    "    \n",
    "print(count)"
   ]
  },
  {
   "cell_type": "code",
   "execution_count": 3,
   "metadata": {},
   "outputs": [
    {
     "name": "stdin",
     "output_type": "stream",
     "text": [
      "띄어쓰기로 구분 5 8 3\n",
      "n개의 데이터 띄어쓰기로 입력 2 4 5 4 6\n"
     ]
    },
    {
     "name": "stdout",
     "output_type": "stream",
     "text": [
      "46\n"
     ]
    }
   ],
   "source": [
    "# 2-1\n",
    "n, m, k = map(int, input('띄어쓰기로 구분').split(' '))\n",
    "\n",
    "data = list(map(int, input('n개의 데이터 띄어쓰기로 입력').split(' ')))\n",
    "\n",
    "data.sort()\n",
    "first = data[n-1]\n",
    "second = data[n-2]\n",
    "\n",
    "result = 0\n",
    "while True:\n",
    "    for i in range(k):\n",
    "        if m == 0: break\n",
    "        result += first\n",
    "        m-=1\n",
    "        \n",
    "    if m==0: break\n",
    "    result+=second\n",
    "    m -= 1\n",
    "print(result)"
   ]
  },
  {
   "cell_type": "code",
   "execution_count": 5,
   "metadata": {},
   "outputs": [
    {
     "name": "stdin",
     "output_type": "stream",
     "text": [
      "띄어쓰기로 구분 5 8 3\n",
      "n개의 데이터 띄어쓰기로 입력 2 4 5 4 6\n"
     ]
    },
    {
     "name": "stdout",
     "output_type": "stream",
     "text": [
      "46\n"
     ]
    }
   ],
   "source": [
    "# 2-2\n",
    "n, m, k = map(int, input('띄어쓰기로 구분').split(' '))\n",
    "\n",
    "data = list(map(int, input('n개의 데이터 띄어쓰기로 입력').split(' ')))\n",
    "\n",
    "data.sort()\n",
    "first = data[n-1]\n",
    "second = data[n-2]\n",
    "\n",
    "count = (m//(k+1))*k\n",
    "count += m%(k+1)\n",
    "\n",
    "result = 0\n",
    "result += first*count # 가장 큰수\n",
    "result += second*(m-count)\n",
    "\n",
    "print(result)"
   ]
  },
  {
   "cell_type": "code",
   "execution_count": 12,
   "metadata": {},
   "outputs": [
    {
     "name": "stdin",
     "output_type": "stream",
     "text": [
      "행과 열을 공백을 기준으로 입력하시오: 2 4\n",
      "1번째 행을 공백을 기준으로 입력하시오: 7 3 1 8\n",
      "2번째 행을 공백을 기준으로 입력하시오: 3 3 3 4\n"
     ]
    },
    {
     "name": "stdout",
     "output_type": "stream",
     "text": [
      "소모 시간:0.0002684593200683594 | 정답:3\n"
     ]
    }
   ],
   "source": [
    "# 3\n",
    "\n",
    "n, m = map(int, input('행과 열을 공백을 기준으로 입력하시오:').split(' '))\n",
    "\n",
    "data = []\n",
    "for i in range(n):\n",
    "    data.append(list(map(int, input(f'{i+1}번째 행을 공백을 기준으로 입력하시오:').split(' '))))\n",
    "\n",
    "start = time.time()\n",
    "M = 0\n",
    "for row in data:\n",
    "    if min(row) > M: M = min(row)\n",
    "end = time.time()\n",
    "print('소모 시간:{} | 정답:{}'.format(end-start, M))"
   ]
  },
  {
   "cell_type": "code",
   "execution_count": 24,
   "metadata": {
    "tags": []
   },
   "outputs": [
    {
     "name": "stdin",
     "output_type": "stream",
     "text": [
      "n과 k를 공백을 기준으로 입력하시오: 25 3\n"
     ]
    },
    {
     "name": "stdout",
     "output_type": "stream",
     "text": [
      "24\n",
      "8\n",
      "7\n",
      "6\n",
      "2\n",
      "1\n",
      "6\n"
     ]
    }
   ],
   "source": [
    "### 4\n",
    "while True:\n",
    "    n, k = map(int, input('n과 k를 공백을 기준으로 입력하시오:').split(' '))\n",
    "    if n >=k: break\n",
    "\n",
    "    \n",
    "count=0\n",
    "while True:\n",
    "    if n==1: break\n",
    "    \n",
    "    n = n - 1\n",
    "    count+=1\n",
    "    print(n)\n",
    "    if n%k==0:\n",
    "        n = n // k\n",
    "        print(n)\n",
    "        count+=1\n",
    "    \n",
    "print(count)"
   ]
  },
  {
   "cell_type": "code",
   "execution_count": 22,
   "metadata": {},
   "outputs": [
    {
     "data": {
      "text/plain": [
       "4"
      ]
     },
     "execution_count": 22,
     "metadata": {},
     "output_type": "execute_result"
    }
   ],
   "source": [
    "count"
   ]
  },
  {
   "cell_type": "code",
   "execution_count": null,
   "metadata": {},
   "outputs": [],
   "source": []
  }
 ],
 "metadata": {
  "kernelspec": {
   "display_name": "Python 3",
   "language": "python",
   "name": "python3"
  },
  "language_info": {
   "codemirror_mode": {
    "name": "ipython",
    "version": 3
   },
   "file_extension": ".py",
   "mimetype": "text/x-python",
   "name": "python",
   "nbconvert_exporter": "python",
   "pygments_lexer": "ipython3",
   "version": "3.7.6"
  }
 },
 "nbformat": 4,
 "nbformat_minor": 4
}
