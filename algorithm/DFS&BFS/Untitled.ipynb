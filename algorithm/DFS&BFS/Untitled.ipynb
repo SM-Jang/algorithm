{
 "cells": [
  {
   "cell_type": "code",
   "execution_count": 2,
   "metadata": {},
   "outputs": [
    {
     "name": "stdout",
     "output_type": "stream",
     "text": [
      "deque([3, 7, 1, 4])\n",
      "deque([4, 1, 7, 3])\n"
     ]
    }
   ],
   "source": [
    "from collections import deque\n",
    "\n",
    "queue = deque()\n",
    "\n",
    "queue.append(5)\n",
    "queue.append(2)\n",
    "queue.append(3)\n",
    "queue.append(7)\n",
    "queue.popleft()\n",
    "queue.append(1)\n",
    "queue.append(4)\n",
    "queue.popleft()\n",
    "\n",
    "print(queue)\n",
    "queue.reverse()\n",
    "print(queue)"
   ]
  },
  {
   "cell_type": "code",
   "execution_count": 8,
   "metadata": {},
   "outputs": [
    {
     "name": "stdout",
     "output_type": "stream",
     "text": [
      "Node: 1\tNode: 2\tNode: 7\tNode: 6\tNode: 8\tNode: 3\tNode: 4\tNode: 5\t"
     ]
    }
   ],
   "source": [
    "def dfs(graph, v, visited):\n",
    "    # 현재 노드를 방문 처리\n",
    "    visited[v] = True\n",
    "    print('Node:', v, end='\\t')\n",
    "    # 현재 노드와 연결된 다른 노드를 재귀적으로 방문\n",
    "    for i in graph[v]: # 인접 리스트\n",
    "        if not visited[i]:\n",
    "            dfs(graph, i, visited) # 같은 그래프, 다음 노드, 방문 확인\n",
    "\n",
    "# 6까지 쭉 실행되고 아무것도 없으니 for문의 다음 노드가 나와서 다시 실행!\n",
    "\n",
    "# 인접 리스트!!            \n",
    "graph = [\n",
    "    [],\n",
    "    [2,3,8], # 1번 노드와 연결되어 있는 인접 노드\n",
    "    [1,7],\n",
    "    [1,4,5],\n",
    "    [3,5],\n",
    "    [3,4],\n",
    "    [7],\n",
    "    [2,6,8],\n",
    "    [1,7]\n",
    "]\n",
    "\n",
    "# 각 노드가 방문된 정보를 리스트 자료형으로 표현\n",
    "visited = [False]*9\n",
    "\n",
    "# 1번 노드부터 시작\n",
    "dfs(graph, 1, visited)        "
   ]
  },
  {
   "cell_type": "code",
   "execution_count": 12,
   "metadata": {},
   "outputs": [
    {
     "name": "stdout",
     "output_type": "stream",
     "text": [
      "1 2 3 8 7 4 5 6 "
     ]
    }
   ],
   "source": [
    "from collections import deque\n",
    "\n",
    "def bfs(graph, start, visited):\n",
    "    # 큐 구현을 위해 deque 라이브러리 사용\n",
    "    queue = deque([start])\n",
    "    # 시작 노드 방문 처리\n",
    "    visited[start] = True\n",
    "    \n",
    "    # 큐가 빌 때까지 반복\n",
    "    while queue:\n",
    "        # 큐에 가장 먼저 들어와 있는 노드\n",
    "        v = queue.popleft()\n",
    "        print(v, end=' ')\n",
    "        for i in graph[v]:\n",
    "            # 인접 노드들\n",
    "            if not visited[i]:\n",
    "                queue.append(i)\n",
    "                visited[i] = True\n",
    "                \n",
    "\n",
    "\n",
    "# 인접 리스트!!            \n",
    "graph = [\n",
    "    [],\n",
    "    [2,3,8], # 1번 노드와 연결되어 있는 인접 노드\n",
    "    [1,7],\n",
    "    [1,4,5],\n",
    "    [3,5],\n",
    "    [3,4],\n",
    "    [7],\n",
    "    [2,6,8],\n",
    "    [1,7]\n",
    "]\n",
    "\n",
    "# 각 노드가 방문된 정보를 리스트 자료형으로 표현\n",
    "visited = [False]*9\n",
    "\n",
    "# 1번 노드부터 시작\n",
    "bfs(graph, 1, visited)    "
   ]
  },
  {
   "cell_type": "code",
   "execution_count": 28,
   "metadata": {},
   "outputs": [
    {
     "name": "stdout",
     "output_type": "stream",
     "text": [
      "deque([1, 2, 3])\n",
      "deque([1, 2]) deque([1, 2, 3])\n"
     ]
    }
   ],
   "source": [
    "\n",
    "old = deque()\n",
    "old.append(1)\n",
    "old.append(2)\n",
    "old.append(3)\n",
    "print(old)\n",
    "new = deque()\n",
    "new = deepcopy(old)\n",
    "old.pop()\n",
    "print(old, new)"
   ]
  },
  {
   "cell_type": "code",
   "execution_count": 44,
   "metadata": {},
   "outputs": [
    {
     "data": {
      "text/plain": [
       "5"
      ]
     },
     "execution_count": 44,
     "metadata": {},
     "output_type": "execute_result"
    }
   ],
   "source": [
    "\n",
    "numbers = [1, 1, 1, 1, 1]\n",
    "\n",
    "# bfs\n",
    "def bfs(sub_nodes, target):\n",
    "    \"\"\"\n",
    "    [0]\n",
    "    [1,1]\n",
    "    [0+1+2,0+1-2,0-1+2,0-1-2]\n",
    "    sub_nodes를 만드는 과정\n",
    "    \"\"\"\n",
    "    sup_nodes=[0]\n",
    "    for sub in sub_nodes:\n",
    "        sub_node=[]\n",
    "        for sup in sup_nodes:\n",
    "            sub_node.append(sup+sub)\n",
    "            sub_node.append(sup-sub)\n",
    "\n",
    "        sup_nodes=sub_node\n",
    "        \n",
    "    return sup_nodes.count(target)\n",
    "bfs(numbers,3)"
   ]
  },
  {
   "cell_type": "code",
   "execution_count": 38,
   "metadata": {},
   "outputs": [
    {
     "data": {
      "text/plain": [
       "[10, 2, 4, -4, 6, -2, 0, -8, 8, 0, 2, -6, 4, -4, -2, -10]"
      ]
     },
     "execution_count": 38,
     "metadata": {},
     "output_type": "execute_result"
    }
   ],
   "source": []
  },
  {
   "cell_type": "code",
   "execution_count": null,
   "metadata": {},
   "outputs": [],
   "source": []
  }
 ],
 "metadata": {
  "kernelspec": {
   "display_name": "Python 3",
   "language": "python",
   "name": "python3"
  },
  "language_info": {
   "codemirror_mode": {
    "name": "ipython",
    "version": 3
   },
   "file_extension": ".py",
   "mimetype": "text/x-python",
   "name": "python",
   "nbconvert_exporter": "python",
   "pygments_lexer": "ipython3",
   "version": "3.7.6"
  }
 },
 "nbformat": 4,
 "nbformat_minor": 4
}
