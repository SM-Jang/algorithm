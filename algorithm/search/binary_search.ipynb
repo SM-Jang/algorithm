{
 "cells": [
  {
   "cell_type": "code",
   "execution_count": 1,
   "metadata": {},
   "outputs": [
    {
     "name": "stdin",
     "output_type": "stream",
     "text": [
      " 10 7\n",
      " 1 3 5 7 9 11 13 15 17 19\n"
     ]
    },
    {
     "name": "stdout",
     "output_type": "stream",
     "text": [
      "4\n"
     ]
    }
   ],
   "source": [
    "def binary_search(array, target, start, end):\n",
    "    # 찾지 못하고 종료\n",
    "    if start > end: return None\n",
    "    mid = (start+end)//2\n",
    "    if array[mid] == target: return mid\n",
    "    if array[mid] > target:\n",
    "        return binary_search(array, target, start, mid-1)\n",
    "    else:\n",
    "        return binary_search(array, target, mid+1, end)\n",
    "    \n",
    "\n",
    "\n",
    "    \n",
    "n, target = list(map(int, input().split(' ')))\n",
    "\n",
    "array = list(map(int, input().split()))\n",
    "\n",
    "result = binary_search(array, target, 0, n-1)\n",
    "if result == None:\n",
    "    print(\"없\")\n",
    "else: print(result+1)\n"
   ]
  },
  {
   "cell_type": "code",
   "execution_count": 5,
   "metadata": {},
   "outputs": [
    {
     "name": "stdout",
     "output_type": "stream",
     "text": [
      "2\n",
      "4\n"
     ]
    }
   ],
   "source": [
    "from bisect import bisect_left, bisect_right\n",
    "# 정렬된 순서를 유지하면서 배열 a에 x를 삽입할 가장 왼쪽 인덱스\n",
    "# 정렬된 순서를 유지하면서 배열 a에 x를 삽입할 가장 오른쪽 인덱스\n",
    "a = [1, 2, 4, 4 ,8]\n",
    "x = 4\n",
    "print(bisect_left(a, x))\n",
    "print(bisect_right(a, x))"
   ]
  },
  {
   "cell_type": "code",
   "execution_count": 6,
   "metadata": {},
   "outputs": [
    {
     "name": "stdout",
     "output_type": "stream",
     "text": [
      "2\n",
      "8\n"
     ]
    }
   ],
   "source": [
    "def count_by_range(a, left_value, right_value):\n",
    "    right_index = bisect_right(a, right_value)\n",
    "    left_index = bisect_left(a, left_value)\n",
    "    return right_index - left_index\n",
    "\n",
    "a = [1, 2, 3, 3, 3, 3, 4, 4, 8, 9]\n",
    "\n",
    "print(count_by_range(a, 4, 4))\n",
    "print(count_by_range(a, -1, 4))"
   ]
  },
  {
   "cell_type": "code",
   "execution_count": 7,
   "metadata": {},
   "outputs": [
    {
     "name": "stdin",
     "output_type": "stream",
     "text": [
      " 4 6\n",
      " 19 15 10 17\n"
     ]
    },
    {
     "name": "stdout",
     "output_type": "stream",
     "text": [
      "15\n"
     ]
    }
   ],
   "source": [
    "# 떡의 개수와 요청한 떡의 길이 입력\n",
    "n, m = list(map(int, input().split(' ')))\n",
    "\n",
    "# 떡의 개별 높이 정보\n",
    "array = list(map(int, input().split(' ')))\n",
    "\n",
    "# 시작과 끝점\n",
    "start = 0\n",
    "end = max(array)\n",
    "\n",
    "# 이진 탐색으로 저장\n",
    "result = 0\n",
    "while start <= end:\n",
    "    total = 0\n",
    "    mid = (start+end) // 2\n",
    "    \n",
    "    # 각 떡의 높이와 중간 값이랑 비교\n",
    "    for x in array:\n",
    "        if x > mid:\n",
    "            # 잘린 떡의 길이 합\n",
    "            total = total + (x - mid)\n",
    "        \n",
    "    # 합이 요청 길이보다 작으면 중간을 왼쪽으로 밀어야함\n",
    "    if total < m:\n",
    "        # 기록 안함!\n",
    "        end = mid-1\n",
    "    else:\n",
    "        result = mid # 최대한 덜 잘라야 하므로 기록\n",
    "        start = mid+1 # 잘린 떡의 길이가 더 짧아짐!\n",
    "        \n",
    "print(result) \n",
    "        \n",
    "        \n"
   ]
  },
  {
   "cell_type": "code",
   "execution_count": 9,
   "metadata": {},
   "outputs": [
    {
     "name": "stdout",
     "output_type": "stream",
     "text": [
      "4\n"
     ]
    }
   ],
   "source": [
    "from bisect import bisect_left, bisect_right\n",
    "array = [1,1,2,2,2,2,3]\n",
    "target = 2\n",
    "\n",
    "left, right = bisect_left(array, target), bisect_right(array, target)\n",
    "print(right-left)"
   ]
  },
  {
   "cell_type": "code",
   "execution_count": 10,
   "metadata": {},
   "outputs": [
    {
     "data": {
      "text/plain": [
       "(2, 6)"
      ]
     },
     "execution_count": 10,
     "metadata": {},
     "output_type": "execute_result"
    }
   ],
   "source": [
    "left, right"
   ]
  },
  {
   "cell_type": "code",
   "execution_count": null,
   "metadata": {},
   "outputs": [],
   "source": []
  }
 ],
 "metadata": {
  "kernelspec": {
   "display_name": "ms-tcn",
   "language": "python",
   "name": "ms-tcn"
  },
  "language_info": {
   "codemirror_mode": {
    "name": "ipython",
    "version": 3
   },
   "file_extension": ".py",
   "mimetype": "text/x-python",
   "name": "python",
   "nbconvert_exporter": "python",
   "pygments_lexer": "ipython3",
   "version": "3.7.10"
  }
 },
 "nbformat": 4,
 "nbformat_minor": 4
}
