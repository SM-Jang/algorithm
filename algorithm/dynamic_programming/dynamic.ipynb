{
 "cells": [
  {
   "cell_type": "code",
   "execution_count": 3,
   "metadata": {},
   "outputs": [
    {
     "name": "stdout",
     "output_type": "stream",
     "text": [
      "89 [1, 1, 2, 3, 5, 8, 13, 21, 34, 55]\n"
     ]
    }
   ],
   "source": [
    "# Top-down\n",
    "# 한 번 계산된 결과를 메모이제이션하는 리스트\n",
    "d = [None] * 100\n",
    "d[0], d[1] = 1, 1\n",
    "\n",
    "def fibo(n):\n",
    "    if n==0 or n==1:\n",
    "        return 1\n",
    "    \n",
    "    if d[n] != None:\n",
    "        # 이전에 메모이제이션 되어 있는 값!\n",
    "        return d[n]\n",
    "    else:\n",
    "        d[n] = fibo(n-1) + fibo(n-2)\n",
    "        return d[n]\n",
    "    \n",
    "print(fibo(10), d[:10])\n",
    "    \n",
    "    "
   ]
  },
  {
   "cell_type": "code",
   "execution_count": 7,
   "metadata": {},
   "outputs": [
    {
     "name": "stdout",
     "output_type": "stream",
     "text": [
      "1346269\n"
     ]
    }
   ],
   "source": [
    "# Bottom-up\n",
    "n = 30\n",
    "\n",
    "d = [None] * 100\n",
    "d[0], d[1] = 1, 1\n",
    "\n",
    "for i in range(2, n+1):\n",
    "    d[i] = d[i-1] + d[i-2]\n",
    "    \n",
    "print(d[n])\n"
   ]
  },
  {
   "cell_type": "code",
   "execution_count": 9,
   "metadata": {},
   "outputs": [
    {
     "name": "stdin",
     "output_type": "stream",
     "text": [
      " 27\n"
     ]
    },
    {
     "name": "stdout",
     "output_type": "stream",
     "text": [
      "3\n"
     ]
    }
   ],
   "source": [
    "x = int(input())\n",
    "\n",
    "\n",
    "# 완전 탑색, 그리디 알고리즘 -> 5, 3, 2는 서로소이기에 적합하지 않음\n",
    "count = 0\n",
    "while True:\n",
    "\n",
    "    \n",
    "    if x % 5 == 0: \n",
    "        x = x//5\n",
    "        count += 1\n",
    "    elif x % 3 == 0:\n",
    "        x = x//3\n",
    "        count+=1\n",
    "    elif x % 2 == 0:\n",
    "        x = x//2\n",
    "        count+=1\n",
    "    else:\n",
    "        if x == 1: \n",
    "            print(count)\n",
    "            break\n",
    "        else:\n",
    "            x = x-1\n",
    "            count+=1\n",
    "            \n",
    "            "
   ]
  },
  {
   "cell_type": "code",
   "execution_count": 11,
   "metadata": {},
   "outputs": [
    {
     "name": "stdin",
     "output_type": "stream",
     "text": [
      " 26\n"
     ]
    },
    {
     "name": "stdout",
     "output_type": "stream",
     "text": [
      "3\n"
     ]
    }
   ],
   "source": [
    "# 다이나믹\n",
    "x = int(input())\n",
    "\n",
    "d = [0] * 10000\n",
    "\n",
    "# 1에 도닥하는 거니까!\n",
    "for i in range(2, x+1):\n",
    "    # op1. -1\n",
    "    d[i] = d[i-1]+1\n",
    "    # op2. //2\n",
    "    if d[i] % 2==0:\n",
    "        d[i] = min(d[i], d[i//2] + 1)\n",
    "    if d[i] % 3==0:\n",
    "        d[i] = min(d[i], d[i//3] + 1)\n",
    "    if d[i] % 5==0:\n",
    "        d[i] = min(d[i], d[i//5] + 1)\n",
    "    \n",
    "    \n",
    "print(d[x])"
   ]
  },
  {
   "cell_type": "code",
   "execution_count": 25,
   "metadata": {},
   "outputs": [
    {
     "name": "stdin",
     "output_type": "stream",
     "text": [
      " 4\n",
      " 1 3 1 5\n"
     ]
    },
    {
     "name": "stdout",
     "output_type": "stream",
     "text": [
      "8\n"
     ]
    }
   ],
   "source": [
    "# 개미전사\n",
    "n = int(input())\n",
    "array = list(map(int, input().split(' ')))\n",
    "\n",
    "# 최적해의 저장 공간\n",
    "d = [0] * (n+1)\n",
    "# 가장 왼쪽 창고\n",
    "d[1] = array[0]\n",
    "# bottom-up\n",
    "for i in range(2, n+1):\n",
    "    d[i] = max(d[i-1], d[i-2]+array[i-1])\n",
    "    \n",
    "print(d[n])"
   ]
  },
  {
   "cell_type": "code",
   "execution_count": 49,
   "metadata": {},
   "outputs": [
    {
     "name": "stdin",
     "output_type": "stream",
     "text": [
      " 3 4\n",
      " 3\n",
      " 5\n",
      " 7\n"
     ]
    },
    {
     "name": "stdout",
     "output_type": "stream",
     "text": [
      "-1\n"
     ]
    }
   ],
   "source": [
    "# 효율적인 화폐 구성\n",
    "n, m = list(map(int, input().split(' ')))\n",
    "\n",
    "# d[m]에서 최적의 sol을 찾아야함\n",
    "d = [-1] * (m+1) # -1은 구성 불가능 금액\n",
    "d[0] = 0\n",
    "\n",
    "# 화폐 단위\n",
    "money = []\n",
    "for _ in range(n):\n",
    "    money.append(int(input()))\n",
    "for i in range(1, m+1):\n",
    "    # 화폐 단위로 만들 수 있는지 판별\n",
    "    for x in money:\n",
    "        # 만들 수 있음\n",
    "        if i-x<0: continue\n",
    "        if d[i-x] != -1:\n",
    "            d[i] = min(d[i], d[i-x] + 1) # 이전 화폐를 통한 최적과 현 화패를 비교!\n",
    "    \n",
    "                \n",
    "                \n",
    "print(d[m])\n",
    "    "
   ]
  },
  {
   "cell_type": "code",
   "execution_count": 48,
   "metadata": {},
   "outputs": [
    {
     "data": {
      "text/plain": [
       "-1"
      ]
     },
     "execution_count": 48,
     "metadata": {},
     "output_type": "execute_result"
    }
   ],
   "source": [
    "d[m]"
   ]
  },
  {
   "cell_type": "code",
   "execution_count": 3,
   "metadata": {},
   "outputs": [
    {
     "name": "stdin",
     "output_type": "stream",
     "text": [
      " 6 11\n",
      " 1\n",
      " 1 2 2\n",
      " 1 3 5\n",
      " 1 4 1\n",
      " 2 3 3\n",
      " 2 4 2\n",
      " 3 2 3\n",
      " 3 6 5\n",
      " 4 3 3\n",
      " 4 5 1\n",
      " 5 3 1\n",
      " 5 6 2\n"
     ]
    },
    {
     "name": "stdout",
     "output_type": "stream",
     "text": [
      "0\n",
      "2\n",
      "3\n",
      "1\n",
      "2\n",
      "4\n"
     ]
    }
   ],
   "source": []
  },
  {
   "cell_type": "code",
   "execution_count": null,
   "metadata": {},
   "outputs": [],
   "source": []
  }
 ],
 "metadata": {
  "kernelspec": {
   "display_name": "[fishnet]",
   "language": "python",
   "name": "fishnet"
  },
  "language_info": {
   "codemirror_mode": {
    "name": "ipython",
    "version": 3
   },
   "file_extension": ".py",
   "mimetype": "text/x-python",
   "name": "python",
   "nbconvert_exporter": "python",
   "pygments_lexer": "ipython3",
   "version": "3.6.13"
  }
 },
 "nbformat": 4,
 "nbformat_minor": 4
}
